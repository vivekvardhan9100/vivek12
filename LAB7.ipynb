{
 "cells": [
  {
   "cell_type": "code",
   "execution_count": 6,
   "id": "ac5829ef-534c-46a8-87c4-f3b541ee4d84",
   "metadata": {},
   "outputs": [
    {
     "name": "stdin",
     "output_type": "stream",
     "text": [
      "Enter a string chaturiya\n",
      "Enter the mask character *\n"
     ]
    },
    {
     "data": {
      "text/plain": [
       "['mask_char',\n",
       " 'mask_char',\n",
       " 'a',\n",
       " 'mask_char',\n",
       " 'u',\n",
       " 'mask_char',\n",
       " 'i',\n",
       " 'mask_char',\n",
       " 'a']"
      ]
     },
     "execution_count": 6,
     "metadata": {},
     "output_type": "execute_result"
    }
   ],
   "source": [
    "#SP-1 demonstrate list comprehensions\n",
    "str=input(\"Enter a string\")\n",
    "char=input(\"Enter the mask character\")\n",
    "[x if x in 'aeiou' else 'char' for x in str]\n"
   ]
  },
  {
   "cell_type": "code",
   "execution_count": 9,
   "id": "eaf232bb-7bc1-449f-b01c-c822b585d261",
   "metadata": {},
   "outputs": [
    {
     "name": "stdout",
     "output_type": "stream",
     "text": [
      "words with length5:\n",
      "apple\n",
      "\n",
      "words with length5:\n",
      "apple\n",
      "\n",
      "words with length6:\n",
      "banana\n",
      "\n",
      "words with length5:\n",
      "apple\n",
      "\n",
      "words with length6:\n",
      "banana\n",
      "\n",
      "words with length3:\n",
      "cat\n",
      "\n",
      "words with length5:\n",
      "apple\n",
      "\n",
      "words with length6:\n",
      "banana\n",
      "\n",
      "words with length3:\n",
      "cat\n",
      "dog\n",
      "\n",
      "words with length8:\n",
      "elephant\n",
      "\n"
     ]
    }
   ],
   "source": [
    "#SP-2 words based on word length\n",
    "def display_words_by_length(words):\n",
    "    word_lengths={}\n",
    "    for word in words:\n",
    "        word_length=len(word)\n",
    "        if word_length in word_lengths:\n",
    "            word_lengths[word_length].append(word)\n",
    "        else:\n",
    "            word_lengths[word_length]=[word]\n",
    "            for length, words in word_lengths.items():\n",
    "                print(f\"words with length{length}:\")\n",
    "                for word in words:\n",
    "                    print(word)\n",
    "                print()\n",
    "\n",
    "words = [\"apple\" , \"banana\" , \"cat\" , \"dog\" , \"elephant\"] \n",
    "display_words_by_length(words)"
   ]
  },
  {
   "cell_type": "code",
   "execution_count": 11,
   "id": "8f353d21-0c35-49ec-a0d9-0d78ea91c9e5",
   "metadata": {},
   "outputs": [
    {
     "name": "stdout",
     "output_type": "stream",
     "text": [
      "SQUARES: {576, 529, 676, 625}\n",
      "CUBES: {13824, 15625, 17576, 12167}\n",
      "UPDATE: {576, 13824, 676, 12167, 17576, 15625, 529, 625}\n",
      "ADD: {576, 13824, 676, 12167, 17576, 15625, 529, 625, 1331, 121}\n",
      "POP: 576\n",
      "REMOVE: {13824, 676, 12167, 17576, 15625, 529, 625, 121}\n",
      "CLEAR: set()\n"
     ]
    }
   ],
   "source": [
    "#SP-3 list comprehension with add and update\n",
    "sq=set([x**2 for x in range(23,27)])\n",
    "cu=set([x**3 for x in range(23,27)])\n",
    "print(\"SQUARES:\",sq)\n",
    "print(\"CUBES:\",cu)\n",
    "sq.update(cu)\n",
    "print(\"UPDATE:\",sq)\n",
    "sq.add(11*11)\n",
    "sq.add(11*11*11)\n",
    "print(\"ADD:\",sq)\n",
    "print(\"POP:\",sq.pop())\n",
    "sq.remove(1331)\n",
    "print(\"REMOVE:\",sq)\n",
    "sq.clear()\n",
    "print(\"CLEAR:\",sq)\n"
   ]
  },
  {
   "cell_type": "code",
   "execution_count": 13,
   "id": "fa92e691-49c6-49f5-85f3-0ad7de507eee",
   "metadata": {},
   "outputs": [
    {
     "name": "stdout",
     "output_type": "stream",
     "text": [
      "[(12, 11), (14, 13), (16, 15)]\n"
     ]
    }
   ],
   "source": [
    "#SP-4 for reversing each tuple in a list of tuples\n",
    "tuples=[(11,12),(13,14),(15,16)]\n",
    "reversed_tuples=[]\n",
    "for tup in tuples:\n",
    "    reversed_tup=tuple(reversed(tup))\n",
    "    reversed_tuples.append(reversed_tup)\n",
    "print(reversed_tuples)"
   ]
  },
  {
   "cell_type": "code",
   "execution_count": 14,
   "id": "3933f26b-0e82-4f86-9124-37b871c97965",
   "metadata": {},
   "outputs": [
    {
     "name": "stdout",
     "output_type": "stream",
     "text": [
      "Slice from index 1 to 6 with step 2: [20, 40, 60]\n",
      "Reversed list: [80, 70, 60, 50, 40, 30, 20, 10]\n"
     ]
    }
   ],
   "source": [
    "#EP-1 to demonstrate slice operation on list\n",
    "numbers = [10, 20, 30, 40, 50, 60, 70, 80]\n",
    "slice1 = numbers[1:7:2]\n",
    "print(\"Slice from index 1 to 6 with step 2:\", slice1)  \n",
    "slice2 = numbers[::-1]\n",
    "print(\"Reversed list:\", slice2)\n"
   ]
  },
  {
   "cell_type": "code",
   "execution_count": 20,
   "id": "e62c8144-58fd-45a2-a3d9-0fc4473f06c1",
   "metadata": {},
   "outputs": [
    {
     "name": "stdout",
     "output_type": "stream",
     "text": [
      "[1, 2, 3, 4, 1, 2, 3, 4, 1, 2, 3, 4]\n",
      "Addition: [1, 2, 3, 4, 5, 6, 7, 8]\n"
     ]
    }
   ],
   "source": [
    "#EP-2 arithmetic operations on list\n",
    "list1=[1,2,3,4]\n",
    "list2=[5,6,7,8]\n",
    "list3=list1+list2\n",
    "product=list1*3\n",
    "print(product)\n",
    "print(\"Addition:\",list3)"
   ]
  },
  {
   "cell_type": "code",
   "execution_count": 25,
   "id": "c6b002bb-b394-4c9c-8b82-974d65bb49dc",
   "metadata": {},
   "outputs": [
    {
     "name": "stdout",
     "output_type": "stream",
     "text": [
      "['liked', 'NO', 'NO', 'NO']\n"
     ]
    }
   ],
   "source": [
    "#EP-3 accessing list within list with looping statements\n",
    "colors=[[\"pink\",\"yellow\"],\"blue\",\"black\",\"white\"]\n",
    "favorite=[\"liked\" if i==[\"pink\",\"yellow\"] else \"NO\" for i in colors]\n",
    "print(favorite)"
   ]
  },
  {
   "cell_type": "code",
   "execution_count": 47,
   "id": "a04024df-e70d-4439-9ef0-c83b6ae0c5de",
   "metadata": {},
   "outputs": [
    {
     "name": "stdout",
     "output_type": "stream",
     "text": [
      "3\n",
      "[22, 33, 44, 33, 12, 19, 33, 55, 77]\n",
      "[22, 33, 44, 33, 12, 19, 33, 55, 77, [99, 100]]\n",
      "[22, 33, 44, 33, 14, 12, 19, 33, 55, 77, [99, 100]]\n",
      "[22, 33, 44, 14, 12, 19, 33, 55, 77, [99, 100]]\n",
      "[22, 33, 44, 14, 19, 33, 55, 77, [99, 100]]\n",
      "[22, 33, 44, 14, 19, 33, 55, 77, [99, 100]]\n",
      "<built-in method sort of list object at 0x0000024E3964C5C0>\n",
      "1\n"
     ]
    }
   ],
   "source": [
    "#EP-4 list methods\n",
    "list1=[22,33,44,33,12,19,33]\n",
    "print(list1.count(33))\n",
    "list1.extend([55,77])\n",
    "print(list1)\n",
    "list1.append([99,100])\n",
    "print(list1)\n",
    "list1.insert(4,14)\n",
    "print(list1)\n",
    "list1.pop(3)\n",
    "print(list1)\n",
    "list1.remove(12)\n",
    "print(list1)\n",
    "list1.reverse\n",
    "print(list1)\n",
    "print(list1.sort)\n",
    "print(list1.index(33))\n"
   ]
  },
  {
   "cell_type": "code",
   "execution_count": 49,
   "id": "2c6ed052-8d1d-4bb1-81b3-064be8bdaa97",
   "metadata": {},
   "outputs": [
    {
     "name": "stdout",
     "output_type": "stream",
     "text": [
      "=== Stack Operations ===\n",
      "Stack after pushes: [10, 20, 30]\n",
      "Popped element: 30\n",
      "Stack after pop: [10, 20]\n",
      "\n",
      "=== Queue Operations ===\n",
      "Queue after enqueues: ['A', 'B', 'C']\n",
      "Dequeued element: A\n",
      "Queue after dequeue: ['B', 'C']\n"
     ]
    }
   ],
   "source": [
    "#EP-5 list as queue and stack\n",
    "print(\"=== Stack Operations ===\")\n",
    "stack = []\n",
    "stack.append(10)\n",
    "stack.append(20)\n",
    "stack.append(30)\n",
    "print(\"Stack after pushes:\", stack)\n",
    "top_element = stack.pop()\n",
    "print(\"Popped element:\", top_element)\n",
    "print(\"Stack after pop:\", stack)\n",
    "\n",
    "print(\"\\n=== Queue Operations ===\")\n",
    "queue = []\n",
    "queue.append('A')\n",
    "queue.append('B')\n",
    "queue.append('C')\n",
    "print(\"Queue after enqueues:\", queue)\n",
    "front_element = queue.pop(0)\n",
    "print(\"Dequeued element:\", front_element)\n",
    "print(\"Queue after dequeue:\", queue)\n",
    "\n"
   ]
  },
  {
   "cell_type": "code",
   "execution_count": null,
   "id": "c11a6794-b503-4814-abd5-6a7fb7300216",
   "metadata": {},
   "outputs": [],
   "source": []
  }
 ],
 "metadata": {
  "kernelspec": {
   "display_name": "Python [conda env:base] *",
   "language": "python",
   "name": "conda-base-py"
  },
  "language_info": {
   "codemirror_mode": {
    "name": "ipython",
    "version": 3
   },
   "file_extension": ".py",
   "mimetype": "text/x-python",
   "name": "python",
   "nbconvert_exporter": "python",
   "pygments_lexer": "ipython3",
   "version": "3.13.5"
  }
 },
 "nbformat": 4,
 "nbformat_minor": 5
}
