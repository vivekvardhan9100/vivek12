{
 "cells": [
  {
   "cell_type": "code",
   "execution_count": 22,
   "id": "34d74325-0d27-4af5-9fa4-035533cfccdd",
   "metadata": {},
   "outputs": [
    {
     "name": "stdout",
     "output_type": "stream",
     "text": [
      "Car Details:\n",
      "Make: Toyota\n",
      "Model: Corolla\n",
      "Year: 2022\n",
      "Speed Limit: 120 km/h\n",
      "\n",
      "accelerating by 20 km/h...\n",
      "Current Speed: 20 km/h\n",
      "\n"
     ]
    },
    {
     "ename": "AttributeError",
     "evalue": "'Car' object has no attribute 'decelerate'",
     "output_type": "error",
     "traceback": [
      "\u001b[1;31m---------------------------------------------------------------------------\u001b[0m",
      "\u001b[1;31mAttributeError\u001b[0m                            Traceback (most recent call last)",
      "Cell \u001b[1;32mIn[22], line 28\u001b[0m\n\u001b[0;32m     26\u001b[0m car1\u001b[38;5;241m.\u001b[39mdisplay_details()\n\u001b[0;32m     27\u001b[0m car1\u001b[38;5;241m.\u001b[39maccelerate(\u001b[38;5;241m20\u001b[39m)\n\u001b[1;32m---> 28\u001b[0m car1\u001b[38;5;241m.\u001b[39mdecelerate(\u001b[38;5;241m10\u001b[39m)\n",
      "\u001b[1;31mAttributeError\u001b[0m: 'Car' object has no attribute 'decelerate'"
     ]
    }
   ],
   "source": [
    "#SP-2 class members and methods using class object\n",
    "class Car:\n",
    "    total_cars=0\n",
    "    speed_limit=120\n",
    "    def __init__(self,make,model,year) :\n",
    "     self.make = make\n",
    "     self.model = model\n",
    "     self.year = year\n",
    "     self.speed = 0\n",
    "     Car.total_cars += 1\n",
    "    def display_details(self):\n",
    "        print(\"Car Details:\")\n",
    "        print(\"Make:\", self.make)\n",
    "        print(\"Model:\", self.model)\n",
    "        print(\"Year:\", self.year)\n",
    "        print(\"Speed Limit:\", Car.speed_limit, \"km/h\\n\")\n",
    "    def accelerate(self, acceleration):\n",
    "        print(\"accelerating by\", acceleration, \"km/h...\")\n",
    "        self.speed += acceleration\n",
    "        print(\"Current Speed:\", self.speed, \"km/h\\n\")\n",
    "    def decelarate(self , deceleration):\n",
    "        print(\"Decelerating by\", deceleration, \"km/h...\")\n",
    "        self.speed -= deceleration\n",
    "        print(\"Current Speed:\", self.speed, \"km/h\\n\")\n",
    "car1 = Car(\"Toyota\", \"Corolla\", 2022)\n",
    "car1.display_details()\n",
    "car1.accelerate(20)\n",
    "car1.decelerate(10)\n",
    "                          \n",
    "        "
   ]
  },
  {
   "cell_type": "code",
   "execution_count": 14,
   "id": "04e513e0-acf8-466a-a10f-5697089ceea2",
   "metadata": {},
   "outputs": [
    {
     "name": "stdout",
     "output_type": "stream",
     "text": [
      "Rahul\n",
      "886012\n",
      "My Nmae is Rahul\n",
      "IdNumber: 886012\n",
      "Post: Intern\n"
     ]
    }
   ],
   "source": [
    "#SP-1 constructors invocation in objects\n",
    "class Person(object):\n",
    "    def __init__(self, name, idnumber):\n",
    "        self.name =name\n",
    "        self.idnumber =idnumber\n",
    "    def display(self):\n",
    "        print(self.name)\n",
    "        print(self.idnumber)\n",
    "    def details(self):\n",
    "        print(\"My name is {}\".format(self.name))\n",
    "        print(\"IdNumber: {}\".format(slef.idnumber))\n",
    "class Employee(Person):\n",
    "    def __init__(self, name, idnumber, salary, post):\n",
    "        self.salary =salary\n",
    "        self.post =post\n",
    "        Person.__init__(self, name, idnumber)\n",
    "    def details(self):\n",
    "        print(\"My Nmae is {}\".format(self.name))\n",
    "        print(\"IdNumber: {}\".format(self.idnumber))\n",
    "        print(\"Post: {}\".format(self.post))\n",
    "a =Employee(\"Rahul\",\"886012\",\"200000\",\"Intern\")\n",
    "a.display()\n",
    "a.details()"
   ]
  },
  {
   "cell_type": "code",
   "execution_count": 15,
   "id": "9253aa67-4798-475d-b8e7-84a5f2773916",
   "metadata": {},
   "outputs": [
    {
     "name": "stdin",
     "output_type": "stream",
     "text": [
      "Enter student name:  Chaturiya\n"
     ]
    },
    {
     "name": "stdout",
     "output_type": "stream",
     "text": [
      "Enter marks for 3 subjects:\n"
     ]
    },
    {
     "name": "stdin",
     "output_type": "stream",
     "text": [
      "Subject 1:  29\n",
      "Subject 2:  27\n",
      "Subject 3:  24\n"
     ]
    },
    {
     "name": "stdout",
     "output_type": "stream",
     "text": [
      "\n",
      "Student Name: Chaturiya\n",
      "Marks: [29.0, 27.0, 24.0]\n",
      "Total Marks: 80.0\n",
      "Average Marks: 26.67\n"
     ]
    }
   ],
   "source": [
    "#EP-1 class members and methods using the class object\n",
    "class Student:\n",
    "    def __init__(self):\n",
    "        self.name = \"\"\n",
    "        self.marks = [0, 0, 0]  \n",
    "    def input_details(self):\n",
    "        self.name = input(\"Enter student name: \")\n",
    "        print(\"Enter marks for 3 subjects:\")\n",
    "        for i in range(3):\n",
    "            self.marks[i] = float(input(f\"Subject {i+1}: \"))\n",
    "    def calculate_total(self):\n",
    "        return sum(self.marks)\n",
    "    def calculate_average(self):\n",
    "        return self.calculate_total() / len(self.marks)\n",
    "    def display(self):\n",
    "        print(f\"\\nStudent Name: {self.name}\")\n",
    "        print(\"Marks:\", self.marks)\n",
    "        print(\"Total Marks:\", self.calculate_total())\n",
    "        print(\"Average Marks:\", round(self.calculate_average(), 2))\n",
    "student1 = Student()\n",
    "student1.input_details()\n",
    "student1.display()\n"
   ]
  },
  {
   "cell_type": "code",
   "execution_count": 16,
   "id": "93a149f8-311f-4f94-9e1c-ce41d8c4edc9",
   "metadata": {},
   "outputs": [
    {
     "name": "stdout",
     "output_type": "stream",
     "text": [
      "Brand: Toyota\n",
      "Color: Red\n",
      "The Red Toyota engine has started.\n",
      "\n",
      "Details of car2:\n",
      "Brand: Honda\n",
      "Color: Blue\n",
      "The Blue Honda engine has started.\n"
     ]
    }
   ],
   "source": [
    "#EP-2 difference between class and object\n",
    "class Car:\n",
    "    def __init__(self, brand, color):\n",
    "        self.brand = brand\n",
    "        self.color = color\n",
    "    def start_engine(self):\n",
    "        print(f\"The {self.color} {self.brand} engine has started.\")\n",
    "car1 = Car(\"Toyota\", \"Red\")       \n",
    "car2 = Car(\"Honda\", \"Blue\")      \n",
    "print(\"Brand:\", car1.brand)\n",
    "print(\"Color:\", car1.color)\n",
    "car1.start_engine()\n",
    "print(\"\\nDetails of car2:\")\n",
    "print(\"Brand:\", car2.brand)\n",
    "print(\"Color:\", car2.color)\n",
    "car2.start_engine()\n"
   ]
  },
  {
   "cell_type": "code",
   "execution_count": 17,
   "id": "66882a01-bc19-47da-a3fe-bfd5f91df336",
   "metadata": {},
   "outputs": [
    {
     "name": "stdout",
     "output_type": "stream",
     "text": [
      "Before modification:\n",
      "Name: John, Salary: 50000\n",
      "\n",
      "After modification:\n",
      "Name: John, Salary: 60000\n"
     ]
    }
   ],
   "source": [
    "#EP-3 modification of an instance variable\n",
    "class Employee:\n",
    "    def __init__(self, name, salary):\n",
    "        self.name = name              \n",
    "        self.salary = salary        \n",
    "    def display(self):\n",
    "        print(f\"Name: {self.name}, Salary: {self.salary}\")\n",
    "emp1 = Employee(\"John\", 50000)\n",
    "print(\"Before modification:\")\n",
    "emp1.display()\n",
    "emp1.salary = 60000\n",
    "print(\"\\nAfter modification:\")\n",
    "emp1.display()"
   ]
  },
  {
   "cell_type": "code",
   "execution_count": 18,
   "id": "03d3f7a3-1c2e-449f-be60-067e1add9ce9",
   "metadata": {},
   "outputs": [
    {
     "name": "stdout",
     "output_type": "stream",
     "text": [
      "Before modification:\n",
      "Student: Alice\n",
      "Marks: [85, 90]\n",
      "\n",
      "After modification:\n",
      "Student: Alice\n",
      "Marks: [88, 90, 95]\n"
     ]
    }
   ],
   "source": [
    "#EP-4 modifying a mutable type attribute\n",
    "class Student:\n",
    "    def __init__(self, name, marks):\n",
    "        self.name = name            \n",
    "        self.marks = marks         \n",
    "    def add_mark(self, new_mark):\n",
    "        self.marks.append(new_mark)  \n",
    "    def update_mark(self, index, new_mark):\n",
    "        if 0 <= index < len(self.marks):\n",
    "            self.marks[index] = new_mark\n",
    "    def display(self):\n",
    "        print(f\"Student: {self.name}\")\n",
    "        print(\"Marks:\", self.marks)\n",
    "student1 = Student(\"Alice\", [85, 90])\n",
    "print(\"Before modification:\")\n",
    "student1.display()\n",
    "student1.add_mark(95)                \n",
    "student1.update_mark(0, 88)           \n",
    "print(\"\\nAfter modification:\")\n",
    "student1.display()\n"
   ]
  },
  {
   "cell_type": "code",
   "execution_count": 19,
   "id": "efff383c-42d3-4615-a1b2-7fc3d1c644d7",
   "metadata": {},
   "outputs": [
    {
     "name": "stdout",
     "output_type": "stream",
     "text": [
      "Name: Alice\n",
      "Age: 20\n",
      "Student ID: S12345\n"
     ]
    }
   ],
   "source": [
    "#EP-11 use of inheritance\n",
    "class Person:\n",
    "    def __init__(self, name, age):\n",
    "        self.name = name\n",
    "        self.age = age\n",
    "    def display_info(self):\n",
    "        print(f\"Name: {self.name}\")\n",
    "        print(f\"Age: {self.age}\")\n",
    "class Student(Person):\n",
    "    def __init__(self, name, age, student_id):\n",
    "        super().__init__(name, age) \n",
    "        self.student_id = student_id\n",
    "    def display_student_info(self):\n",
    "        self.display_info() \n",
    "        print(f\"Student ID: {self.student_id}\")\n",
    "student1 = Student(\"Alice\", 20, \"S12345\")\n",
    "student1.display_student_info()\n"
   ]
  },
  {
   "cell_type": "code",
   "execution_count": 20,
   "id": "d28df4da-7a62-45c2-8e00-3009df024d44",
   "metadata": {},
   "outputs": [
    {
     "name": "stdout",
     "output_type": "stream",
     "text": [
      "Person constructor called\n",
      "Student constructor called\n",
      "Employee constructor called\n",
      "WorkingStudent constructor called\n",
      "I am a Person\n",
      "I am an Employee\n",
      "I am a Student\n",
      "I am a Working Student\n"
     ]
    }
   ],
   "source": [
    "#EP-12 multi-path inheritance \n",
    "class Person:\n",
    "    def __init__(self):\n",
    "        print(\"Person constructor called\")\n",
    "    def show(self):\n",
    "        print(\"I am a Person\")\n",
    "class Employee(Person):\n",
    "    def __init__(self):\n",
    "        super().__init__()  \n",
    "        print(\"Employee constructor called\")\n",
    "    def work(self):\n",
    "        print(\"I am an Employee\")\n",
    "class Student(Person):\n",
    "    def __init__(self):\n",
    "        super().__init__()  \n",
    "        print(\"Student constructor called\")\n",
    "    def study(self):\n",
    "        print(\"I am a Student\")\n",
    "class WorkingStudent(Employee, Student):\n",
    "    def __init__(self):\n",
    "        super().__init__() \n",
    "        print(\"WorkingStudent constructor called\")\n",
    "    def role(self):\n",
    "        print(\"I am a Working Student\")\n",
    "ws = WorkingStudent()\n",
    "ws.show()\n",
    "ws.work()\n",
    "ws.study()\n",
    "ws.role()\n"
   ]
  },
  {
   "cell_type": "code",
   "execution_count": 21,
   "id": "69c61149-669e-4865-ac61-470e7de39c5a",
   "metadata": {},
   "outputs": [
    {
     "name": "stdout",
     "output_type": "stream",
     "text": [
      "No numbers to add\n",
      "None\n",
      "Adding one number: 5\n",
      "5\n",
      "Adding multiple numbers: (5, 10)\n",
      "15\n",
      "Adding multiple numbers: (1, 2, 3, 4)\n",
      "10\n"
     ]
    }
   ],
   "source": [
    "#EP-14 method over loading\n",
    "class Calculator:\n",
    "    def add(self, *args):\n",
    "        if not args:\n",
    "            print(\"No numbers to add\")\n",
    "        elif len(args) == 1:\n",
    "            print(f\"Adding one number: {args[0]}\")\n",
    "            return args[0]\n",
    "        else:\n",
    "            result = 0\n",
    "            for num in args:\n",
    "                result += num\n",
    "            print(f\"Adding multiple numbers: {args}\")\n",
    "            return result\n",
    "calc = Calculator()\n",
    "print(calc.add())             \n",
    "print(calc.add(5))            \n",
    "print(calc.add(5, 10))       \n",
    "print(calc.add(1, 2, 3, 4)) "
   ]
  },
  {
   "cell_type": "code",
   "execution_count": null,
   "id": "4b9750fd-a429-4643-9523-2814b8125773",
   "metadata": {},
   "outputs": [],
   "source": []
  }
 ],
 "metadata": {
  "kernelspec": {
   "display_name": "Python [conda env:base] *",
   "language": "python",
   "name": "conda-base-py"
  },
  "language_info": {
   "codemirror_mode": {
    "name": "ipython",
    "version": 3
   },
   "file_extension": ".py",
   "mimetype": "text/x-python",
   "name": "python",
   "nbconvert_exporter": "python",
   "pygments_lexer": "ipython3",
   "version": "3.13.5"
  }
 },
 "nbformat": 4,
 "nbformat_minor": 5
}
