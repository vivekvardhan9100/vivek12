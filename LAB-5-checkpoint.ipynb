{
 "cells": [
  {
   "cell_type": "code",
   "execution_count": 1,
   "id": "14e19a29-ac93-4db9-a362-140869ae8f61",
   "metadata": {},
   "outputs": [
    {
     "name": "stdout",
     "output_type": "stream",
     "text": [
      "\n",
      " Converted String:\n",
      "BOB\n",
      "\n",
      " Converted String:\n",
      "bob\n",
      "\n",
      " Converted String:\n",
      "Bob\n",
      "\n",
      "Original String\n",
      "bob\n"
     ]
    }
   ],
   "source": [
    "#SP-1 demonstrate python built in sting functions\n",
    "text='bob'\n",
    "print(\"\\n Converted String:\")\n",
    "print(text.upper())\n",
    "print(\"\\n Converted String:\")\n",
    "print(text.lower())\n",
    "print(\"\\n Converted String:\")\n",
    "print(text.title())\n",
    "print(\"\\nOriginal String\")\n",
    "print(text)"
   ]
  },
  {
   "cell_type": "code",
   "execution_count": 3,
   "id": "80914c7a-4a2e-4039-b9c8-baf19563b00b",
   "metadata": {},
   "outputs": [
    {
     "name": "stdin",
     "output_type": "stream",
     "text": [
      "Enter a Sentence:  this is chaturiya reddy\n"
     ]
    },
    {
     "name": "stdout",
     "output_type": "stream",
     "text": [
      "chaturiya (9)\n",
      "reddy (5)\n",
      "this (4)\n",
      "is (2)\n"
     ]
    }
   ],
   "source": [
    "#SP-2 program to sort words in a sentence in decreasing order of their length.display sorted words along with their length.\n",
    "sentence=input(\"Enter a Sentence: \")\n",
    "words=sentence.split()\n",
    "words.sort(key=len, reverse=True)\n",
    "for word in words:\n",
    "    print(f\"{word} ({len(word)})\")"
   ]
  },
  {
   "cell_type": "code",
   "execution_count": 4,
   "id": "2c630f18-852c-4fd5-bc1a-ff38a21bfce7",
   "metadata": {},
   "outputs": [
    {
     "name": "stdin",
     "output_type": "stream",
     "text": [
      "Enter a sentence:  chat\n"
     ]
    },
    {
     "name": "stdout",
     "output_type": "stream",
     "text": [
      "chat\n",
      "hchat\n",
      "1258928127072\n",
      "1258889843152\n"
     ]
    }
   ],
   "source": [
    "#EP-1 program to demonstrate python strings are immutable\n",
    "text1=input(\"Enter a sentence: \")\n",
    "print(text1)\n",
    "text2=\"h\" + text1\n",
    "print(text2)\n",
    "print(id(text1))\n",
    "print(id(text2))"
   ]
  },
  {
   "cell_type": "code",
   "execution_count": 8,
   "id": "e96acd33-cf3c-4f04-a687-1af5bc49f5c7",
   "metadata": {},
   "outputs": [
    {
     "name": "stdout",
     "output_type": "stream",
     "text": [
      "1\n",
      "7\n",
      "4\n",
      "10\n",
      "11\n"
     ]
    }
   ],
   "source": [
    "#EP-2 count(),find(),index(),rfind(),rindex()\n",
    "a=\"Python is Fun\"\n",
    "print(a.count(\"Python\"))\n",
    "print(a.find(\"is\"))\n",
    "print(a.index(\"o\"))\n",
    "print(a.rfind(\"Fun\"))\n",
    "print(a.rindex(\"un\"))\n"
   ]
  },
  {
   "cell_type": "code",
   "execution_count": 6,
   "id": "72caafaf-d5c8-41b4-9360-4cde3686e48c",
   "metadata": {},
   "outputs": [
    {
     "name": "stdout",
     "output_type": "stream",
     "text": [
      "Chocolate\n",
      "***************chocolate****************\n",
      "chocolate                               \n",
      "                               chocolate\n"
     ]
    }
   ],
   "source": [
    "#EP-3 capitalize(),centre(),ljust(),rjust() \n",
    "a=\"chocolate\"\n",
    "print(a.capitalize())\n",
    "print(a.center(40,'*'))\n",
    "print(a.ljust(40))\n",
    "print(a.rjust(40))"
   ]
  },
  {
   "cell_type": "code",
   "execution_count": 17,
   "id": "14adbd53-9412-49db-8f08-6984fc17fc62",
   "metadata": {},
   "outputs": [
    {
     "name": "stdout",
     "output_type": "stream",
     "text": [
      "True\n",
      "False\n",
      "False\n",
      "False\n",
      "False\n",
      "False\n"
     ]
    }
   ],
   "source": [
    "#EP-4 program to demonstrate isalnum(),isalpha(),isdigit(),islower(),isupper(),isspace()\n",
    "s=\"HelloWorld123\"\n",
    "print( s.isalnum())\n",
    "print( s.isalpha())\n",
    "print( s.isdigit())\n",
    "print( s.islower())\n",
    "print( s.isupper())\n",
    "print( s.isspace())"
   ]
  },
  {
   "cell_type": "code",
   "execution_count": 18,
   "id": "2c8a07b9-1b3a-4a2b-9f79-7491cac466bb",
   "metadata": {},
   "outputs": [
    {
     "name": "stdout",
     "output_type": "stream",
     "text": [
      "text[0:6]        -> Python\n",
      "text[::-1]       -> gnimmargorPnohtyP\n",
      "text[1:10:2]     -> yhnrg\n",
      "text[3:12:3]     -> hPg\n",
      "text[-1:-10:-2]  -> gimro\n"
     ]
    }
   ],
   "source": [
    "#EP-5 program to demostrate slice and stride options of string\n",
    "text = \"PythonProgramming\"\n",
    "print(\"text[0:6]        ->\", text[0:6])     \n",
    "print(\"text[::-1]       ->\", text[::-1])     \n",
    "print(\"text[1:10:2]     ->\", text[1:10:2]) \n",
    "print(\"text[3:12:3]     ->\", text[3:12:3])  \n",
    "print(\"text[-1:-10:-2]  ->\", text[-1:-10:-2]) \n",
    "\n"
   ]
  },
  {
   "cell_type": "code",
   "execution_count": 23,
   "id": "828688c5-f0b8-4b7a-8bb3-6c1706b8b141",
   "metadata": {},
   "outputs": [
    {
     "name": "stdin",
     "output_type": "stream",
     "text": [
      "Enter a string:  belly\n"
     ]
    },
    {
     "name": "stdout",
     "output_type": "stream",
     "text": [
      "The given string is not a palindrome.\n"
     ]
    }
   ],
   "source": [
    "#EP-6 program to check given string is palindrome or what else using stride and comparitive operators\n",
    "text = input(\"Enter a string: \")\n",
    "reverse=text[::-1]\n",
    "if reverse == text:\n",
    "    print(\"The given string is a palindrome.\")\n",
    "else:\n",
    "    print(\"The given string is not a palindrome.\")\n",
    "    "
   ]
  },
  {
   "cell_type": "code",
   "execution_count": 24,
   "id": "af78fe59-9589-443c-ab01-a5f463ac769c",
   "metadata": {},
   "outputs": [
    {
     "name": "stdin",
     "output_type": "stream",
     "text": [
      "Enter a string:  chaturiya\n"
     ]
    },
    {
     "name": "stdout",
     "output_type": "stream",
     "text": [
      "Original string: chaturiya\n",
      "After skipping alternate letters: cauia\n"
     ]
    }
   ],
   "source": [
    "#EP-7 program to skip alternate letters using while and string index\n",
    "s = input(\"Enter a string: \")\n",
    "result = \"\"\n",
    "i = 0\n",
    "while i < len(s):\n",
    "    result += s[i]  \n",
    "    i += 2           \n",
    "print(\"Original string:\", s)\n",
    "print(\"After skipping alternate letters:\", result)"
   ]
  },
  {
   "cell_type": "code",
   "execution_count": 26,
   "id": "90197d53-cea7-4213-a219-82662f10e380",
   "metadata": {},
   "outputs": [
    {
     "name": "stdin",
     "output_type": "stream",
     "text": [
      "Enter a string:  emily\n"
     ]
    },
    {
     "name": "stdout",
     "output_type": "stream",
     "text": [
      "Number of vowels in the string: 2\n"
     ]
    }
   ],
   "source": [
    "#EP-8 count no. of vowels in a string\n",
    "s = input(\"Enter a string: \")\n",
    "vowels = \"aeiouAEIOU\"\n",
    "count = 0\n",
    "for char in s:\n",
    "    if char in vowels:\n",
    "        count += 1\n",
    "print(f\"Number of vowels in the string: {count}\")"
   ]
  },
  {
   "cell_type": "code",
   "execution_count": 31,
   "id": "376b7833-193f-4832-a035-18fc938ae28d",
   "metadata": {},
   "outputs": [
    {
     "name": "stdin",
     "output_type": "stream",
     "text": [
      "Enter a string:  banana\n"
     ]
    },
    {
     "name": "stdout",
     "output_type": "stream",
     "text": [
      "3\n"
     ]
    }
   ],
   "source": [
    "#EP-12 no. of occurance of each character in a given string\n",
    "s=input(\"Enter a string: \")\n",
    "print(s.count(\"a\"))"
   ]
  },
  {
   "cell_type": "code",
   "execution_count": 7,
   "id": "5204ac95-a591-4b79-a720-56483cbf25fd",
   "metadata": {},
   "outputs": [
    {
     "name": "stdin",
     "output_type": "stream",
     "text": [
      "Enter a string:  abhlash\n"
     ]
    },
    {
     "name": "stdout",
     "output_type": "stream",
     "text": [
      "Character occurrences:\n",
      "'a': 2\n",
      "'b': 1\n",
      "'h': 2\n",
      "'l': 1\n",
      "'s': 1\n"
     ]
    }
   ],
   "source": [
    "#EP-12\n",
    "s = input(\"Enter a string: \")\n",
    "char_count = {}\n",
    "for char in s:\n",
    "    if char in char_count:\n",
    "        char_count[char] += 1\n",
    "    else:\n",
    "        char_count[char] = 1\n",
    "print(\"Character occurrences:\")\n",
    "for char, count in char_count.items():\n",
    "    print(f\"'{char}': {count}\")"
   ]
  },
  {
   "cell_type": "code",
   "execution_count": 16,
   "id": "2f7781db-293b-4e8e-a81f-5cc680c98584",
   "metadata": {},
   "outputs": [
    {
     "name": "stdin",
     "output_type": "stream",
     "text": [
      "Enter a string:  hello\n",
      "Enter start index:  0\n",
      "Enter a end index:  2\n"
     ]
    },
    {
     "ename": "TypeError",
     "evalue": "'str' object is not callable",
     "output_type": "error",
     "traceback": [
      "\u001b[1;31m---------------------------------------------------------------------------\u001b[0m",
      "\u001b[1;31mTypeError\u001b[0m                                 Traceback (most recent call last)",
      "Cell \u001b[1;32mIn[16], line 5\u001b[0m\n\u001b[0;32m      3\u001b[0m start\u001b[38;5;241m=\u001b[39m\u001b[38;5;28mint\u001b[39m(\u001b[38;5;28minput\u001b[39m(\u001b[38;5;124m\"\u001b[39m\u001b[38;5;124mEnter start index: \u001b[39m\u001b[38;5;124m\"\u001b[39m))\n\u001b[0;32m      4\u001b[0m end\u001b[38;5;241m=\u001b[39m\u001b[38;5;28mint\u001b[39m(\u001b[38;5;28minput\u001b[39m(\u001b[38;5;124m\"\u001b[39m\u001b[38;5;124mEnter a end index: \u001b[39m\u001b[38;5;124m\"\u001b[39m))\n\u001b[1;32m----> 5\u001b[0m substring\u001b[38;5;241m=\u001b[39mtext(start,end)\n\u001b[0;32m      6\u001b[0m \u001b[38;5;28mprint\u001b[39m(\u001b[38;5;124mf\u001b[39m\u001b[38;5;124m\"\u001b[39m\u001b[38;5;124mextracted string: \u001b[39m\u001b[38;5;124m\"\u001b[39m, \u001b[38;5;124m'\u001b[39m\u001b[38;5;132;01m{substring}\u001b[39;00m\u001b[38;5;124m'\u001b[39m)\n",
      "\u001b[1;31mTypeError\u001b[0m: 'str' object is not callable"
     ]
    }
   ],
   "source": [
    "#EP-13\n",
    "text=input(\"Enter a string: \")\n",
    "start=int(input(\"Enter start index: \"))\n",
    "end=int(input(\"Enter a end index: \"))\n",
    "substring=textstart,end]\n",
    "print(f\"extracted string: \", '{substring}')"
   ]
  },
  {
   "cell_type": "code",
   "execution_count": null,
   "id": "b5c87a2c-e5b4-4122-a093-5b043bd2bef6",
   "metadata": {},
   "outputs": [],
   "source": []
  }
 ],
 "metadata": {
  "kernelspec": {
   "display_name": "Python [conda env:base] *",
   "language": "python",
   "name": "conda-base-py"
  },
  "language_info": {
   "codemirror_mode": {
    "name": "ipython",
    "version": 3
   },
   "file_extension": ".py",
   "mimetype": "text/x-python",
   "name": "python",
   "nbconvert_exporter": "python",
   "pygments_lexer": "ipython3",
   "version": "3.13.5"
  }
 },
 "nbformat": 4,
 "nbformat_minor": 5
}
