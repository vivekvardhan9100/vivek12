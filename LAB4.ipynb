{
 "cells": [
  {
   "cell_type": "code",
   "execution_count": 7,
   "id": "93a96973-c800-4fcc-a89e-c4837e6fcbaf",
   "metadata": {},
   "outputs": [
    {
     "ename": "NameError",
     "evalue": "name 'math_operations' is not defined",
     "output_type": "error",
     "traceback": [
      "\u001b[1;31m---------------------------------------------------------------------------\u001b[0m",
      "\u001b[1;31mNameError\u001b[0m                                 Traceback (most recent call last)",
      "Cell \u001b[1;32mIn[7], line 1\u001b[0m\n\u001b[1;32m----> 1\u001b[0m math_operations\u001b[38;5;241m.\u001b[39mpy\n\u001b[0;32m      2\u001b[0m \u001b[38;5;28;01mdef\u001b[39;00m\u001b[38;5;250m \u001b[39m\u001b[38;5;21msquare\u001b[39m(x):\n\u001b[0;32m      3\u001b[0m     \u001b[38;5;28;01mreturn\u001b[39;00m x\u001b[38;5;241m*\u001b[39m\u001b[38;5;241m*\u001b[39m\u001b[38;5;241m2\u001b[39m\n",
      "\u001b[1;31mNameError\u001b[0m: name 'math_operations' is not defined"
     ]
    }
   ],
   "source": [
    "math_operations.py\n",
    "def square(x):\n",
    "    return x**2\n",
    "def cube(x):\n",
    "    return x**3\n",
    "def add(a,b):\n",
    "    return a+b"
   ]
  },
  {
   "cell_type": "code",
   "execution_count": 8,
   "id": "5d2d8bb1-f189-4680-845a-90673db5727e",
   "metadata": {},
   "outputs": [
    {
     "ename": "ModuleNotFoundError",
     "evalue": "No module named 'math_operations'",
     "output_type": "error",
     "traceback": [
      "\u001b[1;31m---------------------------------------------------------------------------\u001b[0m",
      "\u001b[1;31mModuleNotFoundError\u001b[0m                       Traceback (most recent call last)",
      "Cell \u001b[1;32mIn[8], line 2\u001b[0m\n\u001b[0;32m      1\u001b[0m \u001b[38;5;66;03m#MAIN_PROGRAM.PY\u001b[39;00m\n\u001b[1;32m----> 2\u001b[0m \u001b[38;5;28;01mimport\u001b[39;00m\u001b[38;5;250m \u001b[39m\u001b[38;5;21;01mmath_operations\u001b[39;00m\n\u001b[0;32m      3\u001b[0m result1 \u001b[38;5;241m=\u001b[39m math_operations\u001b[38;5;241m.\u001b[39msquare(\u001b[38;5;241m5\u001b[39m)\n\u001b[0;32m      4\u001b[0m \u001b[38;5;28mprint\u001b[39m(\u001b[38;5;124m\"\u001b[39m\u001b[38;5;124mSquare of 5:\u001b[39m\u001b[38;5;124m\"\u001b[39m,result1)\n",
      "\u001b[1;31mModuleNotFoundError\u001b[0m: No module named 'math_operations'"
     ]
    }
   ],
   "source": [
    "#MAIN_PROGRAM.PY\n",
    "import math_operations\n",
    "result1 = math_operations.square(5)\n",
    "print(\"Square of 5:\",result1)\n",
    "result2 = math_operations.cube(3)\n",
    "print(\"Cube of 3:\",result2)\n",
    "result3 = math_operations.add(10,15)\n",
    "print(\"Sum of 10 and 15:\",result3)"
   ]
  },
  {
   "cell_type": "code",
   "execution_count": 14,
   "id": "0692d951-c922-4c0e-8e08-1664d075c871",
   "metadata": {},
   "outputs": [
    {
     "name": "stdin",
     "output_type": "stream",
     "text": [
      "Enter the number of disks:  5\n"
     ]
    },
    {
     "name": "stdout",
     "output_type": "stream",
     "text": [
      "Move disk 1 from A to C\n",
      "Move disk 2 from A to B\n",
      "Move disk 1 from C to B\n",
      "Move disk 3 from A to C\n",
      "Move disk 1 from B to A\n",
      "Move disk 2 from B to C\n",
      "Move disk 1 from A to C\n",
      "Move disk 4 from A to B\n",
      "Move disk 1 from C to B\n",
      "Move disk 2 from C to A\n",
      "Move disk 1 from B to A\n",
      "Move disk 3 from C to B\n",
      "Move disk 1 from A to C\n",
      "Move disk 2 from A to B\n",
      "Move disk 1 from C to B\n",
      "Move disk 5 from A to C\n",
      "Move disk 1 from B to A\n",
      "Move disk 2 from B to C\n",
      "Move disk 1 from A to C\n",
      "Move disk 3 from B to A\n",
      "Move disk 1 from C to B\n",
      "Move disk 2 from C to A\n",
      "Move disk 1 from B to A\n",
      "Move disk 4 from B to C\n",
      "Move disk 1 from A to C\n",
      "Move disk 2 from A to B\n",
      "Move disk 1 from C to B\n",
      "Move disk 3 from A to C\n",
      "Move disk 1 from B to A\n",
      "Move disk 2 from B to C\n",
      "Move disk 1 from A to C\n"
     ]
    }
   ],
   "source": [
    "#Tower oof Hanoi using methods\n",
    "def tower_of_hanoi(n,source,auxiliary,destination):\n",
    "    if n==1:\n",
    "        print(f\"Move disk 1 from {source} to {destination}\")\n",
    "        return\n",
    "    tower_of_hanoi(n-1,source,destination,auxiliary)\n",
    "    print(f\"Move disk {n} from {source} to {destination}\")\n",
    "    tower_of_hanoi(n-1,auxiliary,source,destination)\n",
    "num_disks=int(input(\"Enter the number of disks: \"))\n",
    "tower_of_hanoi(num_disks,'A','B','C')"
   ]
  },
  {
   "cell_type": "code",
   "execution_count": 18,
   "id": "ba3db001-da8e-483f-aa47-6567e4af2450",
   "metadata": {},
   "outputs": [
    {
     "name": "stdout",
     "output_type": "stream",
     "text": [
      "Number of arguments: 3\n",
      "Arguments: ['C:\\\\Users\\\\SE14\\\\anaconda3\\\\Lib\\\\site-packages\\\\ipykernel_launcher.py', '-f', 'C:\\\\Users\\\\SE14\\\\AppData\\\\Roaming\\\\jupyter\\\\runtime\\\\kernel-4f1de0d4-c90c-488d-b619-1b798b1409ff.json']\n",
      "First argument: -f\n"
     ]
    }
   ],
   "source": [
    "#program to demostrate command line arguments\n",
    "import sys\n",
    "def main():\n",
    "    print(\"Number of arguments:\", len(sys.argv))\n",
    "    print(\"Arguments:\", sys.argv)\n",
    "    if len(sys.argv) > 1:\n",
    "        print(\"First argument:\", sys.argv[1])\n",
    "    else:\n",
    "        print(\"No arguments were passed (except the script name).\")\n",
    "if __name__ == \"__main__\":\n",
    "    main()\n"
   ]
  },
  {
   "cell_type": "code",
   "execution_count": 19,
   "id": "7926f450-b85e-4d53-bba3-f2ba33191225",
   "metadata": {},
   "outputs": [
    {
     "name": "stdout",
     "output_type": "stream",
     "text": [
      "Hello, Alice!\n",
      "Addition: 30\n",
      "Factorial of 5: 120\n"
     ]
    }
   ],
   "source": [
    "# main.py\n",
    "\n",
    "import MyModule\n",
    "\n",
    "def main():\n",
    "    print(MyModule.greet(\"Alice\"))\n",
    "    print(\"Addition:\", MyModule.add(10, 20))\n",
    "    print(\"Factorial of 5:\", MyModule.factorial(5))\n",
    "\n",
    "if __name__ == \"__main__\":\n",
    "    main()\n"
   ]
  },
  {
   "cell_type": "code",
   "execution_count": 28,
   "id": "14f3dbea-922f-4e48-8498-c32d2ca67f84",
   "metadata": {},
   "outputs": [
    {
     "name": "stdout",
     "output_type": "stream",
     "text": [
      "8\n",
      "28\n",
      "Hello, Bob!\n",
      "HELLO WORLD!!!\n",
      "10\n",
      "40\n"
     ]
    }
   ],
   "source": [
    "#importing many modules in one module\n",
    "import math_ops\n",
    "import string_ops\n",
    "import list_ops\n",
    "\n",
    "def main():\n",
    "    print(math_ops.add(5, 3))              \n",
    "    print(math_ops.multiply(4, 7))         \n",
    "\n",
    "    print(string_ops.greet(\"Bob\"))         \n",
    "    print(string_ops.shout(\"hello world\")) \n",
    "\n",
    "    my_list = [10, 20, 30, 40]\n",
    "    print(list_ops.first_element(my_list)) \n",
    "    print(list_ops.last_element(my_list)) \n",
    "\n",
    "if __name__ == \"__main__\":\n",
    "    main() \n"
   ]
  },
  {
   "cell_type": "code",
   "execution_count": null,
   "id": "baf2164c-5f9f-4996-9e0f-71eea03eeb79",
   "metadata": {},
   "outputs": [],
   "source": []
  }
 ],
 "metadata": {
  "kernelspec": {
   "display_name": "Python [conda env:base] *",
   "language": "python",
   "name": "conda-base-py"
  },
  "language_info": {
   "codemirror_mode": {
    "name": "ipython",
    "version": 3
   },
   "file_extension": ".py",
   "mimetype": "text/x-python",
   "name": "python",
   "nbconvert_exporter": "python",
   "pygments_lexer": "ipython3",
   "version": "3.13.5"
  }
 },
 "nbformat": 4,
 "nbformat_minor": 5
}
