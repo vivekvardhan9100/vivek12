{
 "cells": [
  {
   "cell_type": "code",
   "execution_count": 2,
   "id": "e6034d38-13e2-4f2d-b159-65e357636aa2",
   "metadata": {},
   "outputs": [
    {
     "name": "stdin",
     "output_type": "stream",
     "text": [
      "Enter the first number: 1\n",
      "Enter the second number:  2\n"
     ]
    },
    {
     "name": "stdout",
     "output_type": "stream",
     "text": [
      "Addditon: 3.0\n",
      "Subtrsction: -1.0\n",
      "Multiplication: 2.0\n",
      "Division: 0.5\n",
      "Modulo: 1.0\n",
      "Exponentiation: 1.0\n"
     ]
    }
   ],
   "source": [
    "#SP-1 Arithmetic Operators\n",
    "num1 = float(input(\"Enter the first number:\"))\n",
    "num2 = float(input(\"Enter the second number: \"))\n",
    "\n",
    "add = num1 + num2    #addition\n",
    "print(\"Addditon:\",add)\n",
    "\n",
    "sub = num1 - num2    #Subtraction\n",
    "print(\"Subtrsction:\",sub)\n",
    "\n",
    "mul = num1 * num2    #Multiplication\n",
    "print(\"Multiplication:\",mul)\n",
    "\n",
    "div = num1 / num2    #Division\n",
    "print(\"Division:\",div)\n",
    "\n",
    "mod = num1 % num2    #Modulo\n",
    "print(\"Modulo:\",mod)\n",
    "\n",
    "expo = num1 ** num2  #Exponentiation\n",
    "print(\"Exponentiation:\",expo)"
   ]
  },
  {
   "cell_type": "code",
   "execution_count": 1,
   "id": "1e8dc548-2f11-46dc-9ef7-f0cb79e69ded",
   "metadata": {},
   "outputs": [
    {
     "name": "stdin",
     "output_type": "stream",
     "text": [
      "Enter first value:  2\n",
      "Enter second value:  3\n"
     ]
    },
    {
     "name": "stdout",
     "output_type": "stream",
     "text": [
      "True\n",
      "True\n",
      "False\n",
      "False\n"
     ]
    }
   ],
   "source": [
    "#SP-2 Logical Operations \n",
    "val1 = bool(int(input(\"Enter first value: \")))\n",
    "val2 = bool(int(input(\"Enter second value: \")))\n",
    "\n",
    "log_and = val1 and val2\n",
    "print(log_and)\n",
    "       \n",
    "log_or = val1 or val2\n",
    "print(log_or)\n",
    "       \n",
    "log1_not = not val1\n",
    "print(log1_not)\n",
    "        \n",
    "log2_not = not val2\n",
    "print(log2_not)\n"
   ]
  },
  {
   "cell_type": "code",
   "execution_count": 2,
   "id": "2b14ec19-dda9-48cf-9cc8-48e278ca6480",
   "metadata": {},
   "outputs": [
    {
     "name": "stderr",
     "output_type": "stream",
     "text": [
      "<>:6: SyntaxWarning: \"is\" with 'str' literal. Did you mean \"==\"?\n",
      "<>:7: SyntaxWarning: \"is not\" with 'str' literal. Did you mean \"!=\"?\n"
     ]
    },
    {
     "name": "stdout",
     "output_type": "stream",
     "text": [
      "Welcome to the Identity Operators Demonstrator!\n",
      "Please enter a stirng:\n"
     ]
    },
    {
     "name": "stdin",
     "output_type": "stream",
     "text": [
      " FIRST\n"
     ]
    },
    {
     "name": "stdout",
     "output_type": "stream",
     "text": [
      "Results:\n",
      "-\"FIRST\" is the same as \"Hello\": False\n",
      "-\"FIRST\" is not the same as \"World\": True\n"
     ]
    },
    {
     "name": "stderr",
     "output_type": "stream",
     "text": [
      "C:\\Users\\SE14\\AppData\\Local\\Temp\\ipykernel_14028\\3377350552.py:6: SyntaxWarning: \"is\" with 'str' literal. Did you mean \"==\"?\n",
      "  is_same_as_hello = input_string is \"Hello\"\n",
      "C:\\Users\\SE14\\AppData\\Local\\Temp\\ipykernel_14028\\3377350552.py:7: SyntaxWarning: \"is not\" with 'str' literal. Did you mean \"!=\"?\n",
      "  is_not_same_as_hello = input_string is not \"World\"\n"
     ]
    }
   ],
   "source": [
    "#SP-3 IDENTITY OPERATIONS\n",
    "print(\"Welcome to the Identity Operators Demonstrator!\")\n",
    "print(\"Please enter a stirng:\")\n",
    "\n",
    "input_string = input()\n",
    "is_same_as_hello = input_string is \"Hello\"\n",
    "is_not_same_as_hello = input_string is not \"World\"\n",
    "\n",
    "print(\"Results:\")\n",
    "print(f\"-\\\"{input_string}\\\" is the same as \\\"Hello\\\":\", is_same_as_hello )\n",
    "print(f\"-\\\"{input_string}\\\" is not the same as \\\"World\\\":\", is_not_same_as_hello )"
   ]
  },
  {
   "cell_type": "code",
   "execution_count": 3,
   "id": "64e65272-b928-4c6f-b61f-901bc0ca4934",
   "metadata": {},
   "outputs": [
    {
     "name": "stdin",
     "output_type": "stream",
     "text": [
      "Enter first value:  2\n",
      "Enter second value:  3\n"
     ]
    },
    {
     "name": "stdout",
     "output_type": "stream",
     "text": [
      "False\n",
      "True\n",
      "True\n",
      "False\n",
      "True\n",
      "False\n"
     ]
    }
   ],
   "source": [
    "# EP-1 COMPARISION OPERATORS\n",
    "val1 = int(input(\"Enter first value: \"))\n",
    "val2 = int(input(\"Enter second value: \"))\n",
    "\n",
    "print(val1==val2)\n",
    "print(val1!=val2)\n",
    "print(val1<val2)\n",
    "print(val1>val2)\n",
    "print(val1<=val2)\n",
    "print(val1>=val2)"
   ]
  },
  {
   "cell_type": "code",
   "execution_count": 4,
   "id": "64677280-17ce-447d-b6e4-f9c861198822",
   "metadata": {},
   "outputs": [
    {
     "name": "stdin",
     "output_type": "stream",
     "text": [
      "Enter first value:  1\n",
      "Enter second value:  2\n"
     ]
    },
    {
     "name": "stdout",
     "output_type": "stream",
     "text": [
      "0\n",
      "3\n",
      "3\n",
      "0\n",
      "4\n"
     ]
    }
   ],
   "source": [
    "# EP-2 LOGICAL  OPERATORS\n",
    "val1 = int(input(\"Enter first value: \"))\n",
    "val2 = int(input(\"Enter second value: \"))\n",
    "\n",
    "print(val1&val2)\n",
    "print(val1|val2)\n",
    "print(val1^val2)\n",
    "print(val1>>val2)\n",
    "print(val1<<val2)\n"
   ]
  },
  {
   "cell_type": "code",
   "execution_count": 6,
   "id": "f0bb79fd-ef85-4973-bb18-2c6f329dcd45",
   "metadata": {},
   "outputs": [
    {
     "name": "stdin",
     "output_type": "stream",
     "text": [
      "Enter numbers separated by spaces:  1 3 6 8 9\n",
      "Enter first value to be checked:  1\n",
      "Enter second value to be checked:  3\n"
     ]
    },
    {
     "name": "stdout",
     "output_type": "stream",
     "text": [
      "True\n",
      "False\n"
     ]
    }
   ],
   "source": [
    "# EP-3 MEMBERSHIP OPERATORs\n",
    "num = list(map(int, input(\"Enter numbers separated by spaces: \").split()))\n",
    "val1 = int(input(\"Enter first value to be checked: \"))\n",
    "val2 = int(input(\"Enter second value to be checked: \"))\n",
    "\n",
    "print(val1 in num)\n",
    "print(val2 not in num)\n"
   ]
  },
  {
   "cell_type": "code",
   "execution_count": 7,
   "id": "93db05a5-5f1b-423d-8329-96ca2b86eff5",
   "metadata": {},
   "outputs": [
    {
     "name": "stdin",
     "output_type": "stream",
     "text": [
      "Enter first value:  3\n",
      "Enter second value:  4\n"
     ]
    },
    {
     "name": "stdout",
     "output_type": "stream",
     "text": [
      "4\n",
      "3\n"
     ]
    }
   ],
   "source": [
    "#EP-4 SWAP 2-NUMBERS\n",
    "val1 = int(input(\"Enter first value: \"))\n",
    "val2 = int(input(\"Enter second value: \"))\n",
    "val1,val2 = val2,val1\n",
    "print(val1)\n",
    "print(val2)"
   ]
  },
  {
   "cell_type": "code",
   "execution_count": 8,
   "id": "2d0fd741-d663-4c8b-bf02-ef8deb57db38",
   "metadata": {},
   "outputs": [
    {
     "name": "stdin",
     "output_type": "stream",
     "text": [
      "Enter first value:  1\n",
      "Enter second value:  2\n"
     ]
    },
    {
     "name": "stdout",
     "output_type": "stream",
     "text": [
      "111\n",
      "2add\n"
     ]
    }
   ],
   "source": [
    "#EP-5 Sting Muliplication and String Addition\n",
    "val1 = input(\"Enter first value: \")\n",
    "val2 = input(\"Enter second value: \")\n",
    "\n",
    "print(val1*3)\n",
    "print(val2+\"add\")"
   ]
  },
  {
   "cell_type": "code",
   "execution_count": 9,
   "id": "ac486226-d96a-4e64-b46a-8ab88e5a4620",
   "metadata": {},
   "outputs": [
    {
     "name": "stdin",
     "output_type": "stream",
     "text": [
      "Enter first value:  5\n"
     ]
    },
    {
     "name": "stdout",
     "output_type": "stream",
     "text": [
      "Number of seconds for X Days: 432000\n"
     ]
    }
   ],
   "source": [
    "#EP-6 Number of seconds of X days\n",
    "val1 = int(input(\"Enter first value: \"))\n",
    "\n",
    "noOfSec = val1*86400\n",
    "print(\"Number of seconds for X Days:\",noOfSec)\n"
   ]
  },
  {
   "cell_type": "code",
   "execution_count": 10,
   "id": "a41c48e0-6d0a-42fe-ad46-c4d2c9c39324",
   "metadata": {},
   "outputs": [
    {
     "name": "stdin",
     "output_type": "stream",
     "text": [
      "Enter first value:  6\n"
     ]
    },
    {
     "name": "stdout",
     "output_type": "stream",
     "text": [
      "5.1\n"
     ]
    }
   ],
   "source": [
    "#EP-7 Gross Salary\n",
    "basic = int(input(\"Enter first value: \"))\n",
    "\n",
    "total = 0.60*basic + 0.20*basic + 0.05*basic\n",
    "print(total)\n"
   ]
  },
  {
   "cell_type": "code",
   "execution_count": 11,
   "id": "c773a909-0a0b-4323-b4d6-f53eb1624766",
   "metadata": {},
   "outputs": [
    {
     "name": "stdin",
     "output_type": "stream",
     "text": [
      "Enter Principal Amount (PA):  45\n",
      "Enter Rate of Interest (RI) in %:  55\n",
      "Enter Time in years:  5\n"
     ]
    },
    {
     "name": "stdout",
     "output_type": "stream",
     "text": [
      "Simple Interest: 123.75\n",
      "Compound Interest: 357.6\n"
     ]
    }
   ],
   "source": [
    "#EP-8 SIMPLE INTEREST AND COMPOUND INTEREST\n",
    "\n",
    "PA = int(input(\"Enter Principal Amount (PA): \"))\n",
    "RI = int(input(\"Enter Rate of Interest (RI) in %: \"))\n",
    "time = int(input(\"Enter Time in years: \"))\n",
    "\n",
    "SI = (PA * RI * time) / 100\n",
    "CI = PA * ((1 + RI / 100) ** time) - PA\n",
    "\n",
    "print(\"Simple Interest:\", round(SI, 2))\n",
    "print(\"Compound Interest:\", round(CI, 2))\n"
   ]
  },
  {
   "cell_type": "code",
   "execution_count": 12,
   "id": "8e4074bc-3c84-471c-96c1-c3d754038fb9",
   "metadata": {},
   "outputs": [
    {
     "name": "stdin",
     "output_type": "stream",
     "text": [
      "Enter value for a:  7\n",
      "Enter value for b:  8\n",
      "Enter value for c:  7\n"
     ]
    },
    {
     "name": "stdout",
     "output_type": "stream",
     "text": [
      "The solutions are: x1 = (-0.5714285714285714+0.8206518066482898j), x2 = (-0.5714285714285714-0.8206518066482898j)\n"
     ]
    }
   ],
   "source": [
    "#EP-9 QUADRATIC EQUATION \n",
    "import cmath\n",
    "\n",
    "a = int(input(\"Enter value for a: \"))\n",
    "b = int(input(\"Enter value for b: \"))\n",
    "c = int(input(\"Enter value for c: \"))\n",
    "\n",
    "D = cmath.sqrt(b**2 - 4*a*c)\n",
    "x1 = (-b + D) / (2*a)\n",
    "x2 = (-b - D) / (2*a)\n",
    "\n",
    "print(f\"The solutions are: x1 = {x1}, x2 = {x2}\")\n",
    "\n"
   ]
  },
  {
   "cell_type": "code",
   "execution_count": 17,
   "id": "3e8ce898-e535-4b8a-9d7c-786d609bfc67",
   "metadata": {},
   "outputs": [
    {
     "name": "stdin",
     "output_type": "stream",
     "text": [
      " delhi\n",
      " fj\n",
      " fj\n",
      " j\n"
     ]
    },
    {
     "name": "stdout",
     "output_type": "stream",
     "text": [
      "Capital cities: India delhi, US fj, UK fj, China j\n"
     ]
    }
   ],
   "source": [
    "#EP-10 FORMAT SPECIFIER\n",
    "India=input(\"\")\n",
    "US=input(\"\")\n",
    "UK=input(\"\")\n",
    "China=input(\"\")\n",
    "print(\"Capital cities: India {}, US {}, UK {}, China {}\".format(India,US,UK,China))\n",
    "\n",
    "\n"
   ]
  },
  {
   "cell_type": "code",
   "execution_count": null,
   "id": "e542878e-7386-4de8-bb69-c00fad0c62bf",
   "metadata": {},
   "outputs": [],
   "source": []
  }
 ],
 "metadata": {
  "kernelspec": {
   "display_name": "Python [conda env:base] *",
   "language": "python",
   "name": "conda-base-py"
  },
  "language_info": {
   "codemirror_mode": {
    "name": "ipython",
    "version": 3
   },
   "file_extension": ".py",
   "mimetype": "text/x-python",
   "name": "python",
   "nbconvert_exporter": "python",
   "pygments_lexer": "ipython3",
   "version": "3.13.5"
  }
 },
 "nbformat": 4,
 "nbformat_minor": 5
}
