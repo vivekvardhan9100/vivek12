{
 "cells": [
  {
   "cell_type": "code",
   "execution_count": 4,
   "id": "f9bb9cc5-5988-4656-a224-eca2a4e41a5c",
   "metadata": {},
   "outputs": [
    {
     "name": "stdin",
     "output_type": "stream",
     "text": [
      "Enter a year: 2024\n"
     ]
    },
    {
     "name": "stdout",
     "output_type": "stream",
     "text": [
      "It is a Leap Year\n"
     ]
    }
   ],
   "source": [
    "#SP-1 leap year\n",
    "year=int(input(\"Enter a year:\"))\n",
    "if(year%4==0 and year%100!=0)or year%400==0:\n",
    "    print(\"It is a Leap Year\")\n",
    "else:\n",
    "    print(\"It is not a leap year\")\n",
    "    \n"
   ]
  },
  {
   "cell_type": "code",
   "execution_count": 8,
   "id": "56ce84ff-aa72-4cbc-883b-cfe1a2c49139",
   "metadata": {},
   "outputs": [
    {
     "name": "stdin",
     "output_type": "stream",
     "text": [
      "Enter the base number: 2\n",
      "enter the exponent: 3\n"
     ]
    },
    {
     "name": "stdout",
     "output_type": "stream",
     "text": [
      "8\n"
     ]
    }
   ],
   "source": [
    "#sp-2 power of a number\n",
    "base= int(input(\"Enter the base number:\"))\n",
    "expo=int(input(\"enter the exponent:\"))\n",
    "result=1\n",
    "while expo>0:\n",
    " result*=base\n",
    " expo-=1\n",
    "print(result)\n"
   ]
  },
  {
   "cell_type": "code",
   "execution_count": 12,
   "id": "7b3fe5a1-747f-491e-b54a-9474f5186291",
   "metadata": {},
   "outputs": [
    {
     "name": "stdin",
     "output_type": "stream",
     "text": [
      "enter a number 12\n"
     ]
    },
    {
     "name": "stdout",
     "output_type": "stream",
     "text": [
      "prime numbers upto 12 are 2,3,5,7,11\n"
     ]
    }
   ],
   "source": [
    "#sp3 generate prime numbers\n",
    "import math\n",
    "limit=int(input(\"enter a number\"))\n",
    "prime=[] #creates an empty list\n",
    "for num in range(2,limit+1):\n",
    "    is_prime=True\n",
    "    for divisor in range(2,math.isqrt(num)+1):\n",
    "        if num%divisor==0:\n",
    "            is_prime=False\n",
    "            break\n",
    "    if is_prime:\n",
    "     prime.append(num)\n",
    "print (\"prime numbers upto\",limit,\"are\",\",\".join(map(str,prime)))\n",
    "\n"
   ]
  },
  {
   "cell_type": "code",
   "execution_count": 14,
   "id": "21c30ad5-e3c9-4e5d-ba20-aa9505b33159",
   "metadata": {},
   "outputs": [
    {
     "name": "stdin",
     "output_type": "stream",
     "text": [
      "enter a number 3\n"
     ]
    },
    {
     "name": "stdout",
     "output_type": "stream",
     "text": [
      "odd\n"
     ]
    }
   ],
   "source": [
    "#ep-1 even or odd\n",
    "num=int(input(\"enter a number\"))\n",
    "if num%2==0:\n",
    "    print(\"even\")\n",
    "else:\n",
    "    print(\"odd\")"
   ]
  },
  {
   "cell_type": "code",
   "execution_count": 21,
   "id": "ab2834cc-be81-457c-9166-732a6a3fc643",
   "metadata": {},
   "outputs": [
    {
     "name": "stdin",
     "output_type": "stream",
     "text": [
      "Enter a character 2\n"
     ]
    },
    {
     "name": "stdout",
     "output_type": "stream",
     "text": [
      "special\n",
      "50\n"
     ]
    }
   ],
   "source": [
    "#ep-2 upper, lower, or special\n",
    "val=input(\"Enter a character\")\n",
    "asciii=ord(val)\n",
    "if  65 <= asciii <= 90:\n",
    "    print(\"upper\")\n",
    "elif 97 <= asciii <= 122:\n",
    "    print(\"Lower\")\n",
    "else:\n",
    " print(\"special\")\n",
    "\n",
    "print(asciii)"
   ]
  },
  {
   "cell_type": "code",
   "execution_count": 26,
   "id": "c6834b8f-cc51-47c8-b38a-87dae152bdbd",
   "metadata": {},
   "outputs": [
    {
     "name": "stdin",
     "output_type": "stream",
     "text": [
      " 43\n",
      " 45\n",
      " 21\n"
     ]
    },
    {
     "name": "stdout",
     "output_type": "stream",
     "text": [
      "45\n"
     ]
    }
   ],
   "source": [
    "#ep-3 largest among 3 nums\n",
    "a=int(input(\"\"))\n",
    "b=int(input(\"\"))\n",
    "c=int(input(\"\"))\n",
    "if a>b and a>c:\n",
    "    print(a)\n",
    "elif b>c:\n",
    "    print(b)\n",
    "else:\n",
    "    print(c)"
   ]
  },
  {
   "cell_type": "code",
   "execution_count": null,
   "id": "48d9488a-ab23-460b-b1bf-333b89fa5790",
   "metadata": {},
   "outputs": [],
   "source": [
    "#ep-4 leap year or not\n",
    "year=int(input(\"Enter a year:\"))\n",
    "if(year%4==0 and year%100!=0)or year%400==0:\n",
    "    print(\"It is a Leap Year\")\n",
    "else:\n",
    "    print(\"It is not a leap year\")\n",
    "    \n"
   ]
  },
  {
   "cell_type": "code",
   "execution_count": 28,
   "id": "1e13fa82-c87a-4bd0-bcc4-4ca8a07bf917",
   "metadata": {},
   "outputs": [
    {
     "name": "stdin",
     "output_type": "stream",
     "text": [
      " 232\n"
     ]
    },
    {
     "name": "stdout",
     "output_type": "stream",
     "text": [
      "palindrome\n"
     ]
    }
   ],
   "source": [
    "#ep-5 palindrome or not\n",
    "val=int(input(\"\"))\n",
    "string=str(val)\n",
    "if string==string[::-1]:\n",
    "    print(\"palindrome\")\n",
    "else:\n",
    "    print(\"not palindrome\")"
   ]
  },
  {
   "cell_type": "code",
   "execution_count": 30,
   "id": "d3e9a93e-ee0f-4a0a-81c8-b7ef75067db3",
   "metadata": {},
   "outputs": [
    {
     "name": "stdin",
     "output_type": "stream",
     "text": [
      "num1: 23\n",
      "num2: 14\n"
     ]
    },
    {
     "name": "stdout",
     "output_type": "stream",
     "text": [
      "GCD of 23 , 14 is 1\n"
     ]
    }
   ],
   "source": [
    "#ep-6 calculate gcd\n",
    "import math\n",
    "num1=int(input(\"num1:\"))\n",
    "num2=int(input(\"num2:\"))\n",
    "gcd=math.gcd(num1,num2)\n",
    "print(\"GCD of\",num1,\",\",num2,\"is\",gcd)\n"
   ]
  },
  {
   "cell_type": "code",
   "execution_count": 34,
   "id": "ed799fd9-49ef-4abe-a37a-4024b5c1ac04",
   "metadata": {},
   "outputs": [
    {
     "name": "stdin",
     "output_type": "stream",
     "text": [
      "enter a number 25\n"
     ]
    },
    {
     "name": "stdout",
     "output_type": "stream",
     "text": [
      "25 is not a prime\n"
     ]
    }
   ],
   "source": [
    "#ep-7 demonstration of while with else\n",
    "num=int(input(\"enter a number\"))\n",
    "i=2\n",
    "while num>i:\n",
    "    if num%i==0:\n",
    "        print(num,\"is not a prime\")\n",
    "        break\n",
    "    i+=1\n",
    "else:\n",
    "    print(num, \"is a prime\")\n",
    "    "
   ]
  },
  {
   "cell_type": "code",
   "execution_count": 36,
   "id": "619fc94d-5324-4458-8227-131f83ec2e94",
   "metadata": {},
   "outputs": [
    {
     "name": "stdin",
     "output_type": "stream",
     "text": [
      "enter a number 3\n"
     ]
    },
    {
     "name": "stdout",
     "output_type": "stream",
     "text": [
      "3\n",
      "2\n",
      "1\n"
     ]
    }
   ],
   "source": [
    "#ep-8 sequence of numbers in reverse order \n",
    "num=int(input(\"enter a number\"))\n",
    "while num>=1:\n",
    "    print(num)\n",
    "    num-=1"
   ]
  },
  {
   "cell_type": "code",
   "execution_count": 37,
   "id": "b90cbd36-dd0c-47b2-93b9-76d7de1a283e",
   "metadata": {},
   "outputs": [
    {
     "name": "stdin",
     "output_type": "stream",
     "text": [
      "enter no of rows 6\n"
     ]
    },
    {
     "name": "stdout",
     "output_type": "stream",
     "text": [
      "     * \n",
      "    * * \n",
      "   * * * \n",
      "  * * * * \n",
      " * * * * * \n",
      "* * * * * * \n"
     ]
    }
   ],
   "source": [
    "#ep-9 Pyramid sequece\n",
    "rows= int(input(\"enter no of rows\"))\n",
    "for i in range(1,rows+1):\n",
    "    print(\" \" * (rows - i), end=\"\")\n",
    "    print(\"* \" * i)\n",
    "\n"
   ]
  },
  {
   "cell_type": "code",
   "execution_count": null,
   "id": "337e13db-e1bd-45bc-aada-87dbbb265769",
   "metadata": {},
   "outputs": [],
   "source": [
    "#ep-10 Fibonacci series\n",
    "n = int(input(\"Enter the number of terms: \"))\n",
    "a, b = 0, 1 \n",
    "print(\"Fibonacci Series:\")\n",
    "for i in range(n):\n",
    "    print(a, end=\" \")\n",
    "    a, b = b, a + b"
   ]
  }
 ],
 "metadata": {
  "kernelspec": {
   "display_name": "Python [conda env:base] *",
   "language": "python",
   "name": "conda-base-py"
  },
  "language_info": {
   "codemirror_mode": {
    "name": "ipython",
    "version": 3
   },
   "file_extension": ".py",
   "mimetype": "text/x-python",
   "name": "python",
   "nbconvert_exporter": "python",
   "pygments_lexer": "ipython3",
   "version": "3.13.5"
  }
 },
 "nbformat": 4,
 "nbformat_minor": 5
}
