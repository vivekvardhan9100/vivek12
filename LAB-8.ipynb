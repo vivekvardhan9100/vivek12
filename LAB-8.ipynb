{
 "cells": [
  {
   "cell_type": "code",
   "execution_count": 2,
   "id": "2788573f-0523-4e8e-bd1a-3e1b3003341c",
   "metadata": {},
   "outputs": [],
   "source": [
    "#SP-1 exception handling\n",
    "def divide_numbers(numerator, denominator):\n",
    "    try:\n",
    "        result = numerator/denominator\n",
    "        print(\"Result:\",result)\n",
    "    except ZeroDivisionError:\n",
    "        print(\"Error: Division by zero is not allowed.\")\n",
    "def convert_to_integer(number_str):\n",
    "    try:\n",
    "        number = int(number_str)\n",
    "        print(\"Converted number:\", number)\n",
    "    except ValueError:\n",
    "        print(\"Error: Invalid input. Please enter a valid number.\")"
   ]
  },
  {
   "cell_type": "code",
   "execution_count": 5,
   "id": "0945b03a-c165-45a5-bc06-189c4243320e",
   "metadata": {},
   "outputs": [
    {
     "name": "stdout",
     "output_type": "stream",
     "text": [
      "This is the write commandIt allows us to write in \n"
     ]
    }
   ],
   "source": [
    "#SP-2 file operations\n",
    "file = open('biodata.txt','w')\n",
    "file.write(\"This is the write command\")\n",
    "file.write(\"It allows us to write in a particular file\")\n",
    "file.close()\n",
    "file = open('biodata.txt','a')\n",
    "file.write(\"This will add this line\")\n",
    "file.close()\n",
    "file = open(\"biodata.txt\",\"r\")\n",
    "print(file.read(50))"
   ]
  },
  {
   "cell_type": "code",
   "execution_count": 6,
   "id": "6e86a663-7e53-4c47-bf5f-0878254bbbc5",
   "metadata": {},
   "outputs": [
    {
     "name": "stdout",
     "output_type": "stream",
     "text": [
      "Result: 5.0\n",
      "Division performed successfully.\n",
      "Execution of try-except block completed.\n",
      "\n",
      "Error: Cannot divide by zero.\n",
      "Execution of try-except block completed.\n",
      "\n",
      "Error: Invalid input type. Please enter numbers.\n",
      "Execution of try-except block completed.\n",
      "\n"
     ]
    }
   ],
   "source": [
    "#EP-1 exception with try and multiple catch blocks\n",
    "def divide_numbers(a, b):\n",
    "    try:\n",
    "        result = a / b\n",
    "        print(f\"Result: {result}\")\n",
    "    except ZeroDivisionError:\n",
    "        print(\"Error: Cannot divide by zero.\")\n",
    "    except TypeError:\n",
    "        print(\"Error: Invalid input type. Please enter numbers.\")\n",
    "    except Exception as e:\n",
    "        print(f\"An unexpected error occurred: {e}\")\n",
    "    else:\n",
    "        print(\"Division performed successfully.\")\n",
    "    finally:\n",
    "        print(\"Execution of try-except block completed.\\n\")\n",
    "divide_numbers(10, 2)       \n",
    "divide_numbers(10, 0)      \n",
    "divide_numbers(10, 'a')    \n"
   ]
  },
  {
   "cell_type": "code",
   "execution_count": 7,
   "id": "84052f43-bdb5-45bd-9b3a-a57a8342f362",
   "metadata": {},
   "outputs": [
    {
     "name": "stdout",
     "output_type": "stream",
     "text": [
      "Result: 5.0\n",
      "Division performed successfully.\n",
      "Execution of try-except block completed.\n",
      "\n",
      "An error occurred: division by zero\n",
      "Execution of try-except block completed.\n",
      "\n",
      "An error occurred: unsupported operand type(s) for /: 'int' and 'str'\n",
      "Execution of try-except block completed.\n",
      "\n"
     ]
    }
   ],
   "source": [
    "#EP-2 exception with try and single catch with multiple errors handling options\n",
    "def divide_numbers(a, b):\n",
    "    try:\n",
    "        result = a / b\n",
    "        print(f\"Result: {result}\")\n",
    "    except (ZeroDivisionError, TypeError) as e:\n",
    "        print(f\"An error occurred: {e}\")\n",
    "    else:\n",
    "        print(\"Division performed successfully.\")\n",
    "    finally:\n",
    "        print(\"Execution of try-except block completed.\\n\")\n",
    "divide_numbers(10, 2)      \n",
    "divide_numbers(10, 0)      \n",
    "divide_numbers(10, 'x')     \n"
   ]
  },
  {
   "cell_type": "code",
   "execution_count": 8,
   "id": "2e763727-8b8e-4de5-a899-fb6babbe09a7",
   "metadata": {},
   "outputs": [
    {
     "name": "stdout",
     "output_type": "stream",
     "text": [
      "Division successful! Result is 5.0\n",
      "Operation complete.\n",
      "\n",
      "Cannot divide by zero.\n",
      "Operation complete.\n",
      "\n",
      "Invalid input type. Please enter numbers.\n",
      "Operation complete.\n",
      "\n"
     ]
    }
   ],
   "source": [
    "#EP-3 else block in exception\n",
    "def divide_numbers(a, b):\n",
    "    try:\n",
    "        result = a / b\n",
    "    except ZeroDivisionError:\n",
    "        print(\"Cannot divide by zero.\")\n",
    "    except TypeError:\n",
    "        print(\"Invalid input type. Please enter numbers.\")\n",
    "    else:\n",
    "        # This runs only if no exception occurred in try\n",
    "        print(f\"Division successful! Result is {result}\")\n",
    "    finally:\n",
    "        print(\"Operation complete.\\n\")\n",
    "divide_numbers(10, 2)    \n",
    "divide_numbers(10, 0)    \n",
    "divide_numbers(10, 'a')  "
   ]
  },
  {
   "cell_type": "code",
   "execution_count": 9,
   "id": "120e9fa1-4b1b-4895-9346-6dcc863616c2",
   "metadata": {},
   "outputs": [
    {
     "name": "stdout",
     "output_type": "stream",
     "text": [
      "Caught an exception: Age cannot be negative!\n"
     ]
    }
   ],
   "source": [
    "#EP-4 raise exception\n",
    "def check_age(age):\n",
    "    if age < 0:\n",
    "        raise ValueError(\"Age cannot be negative!\")\n",
    "    else:\n",
    "        print(f\"Age is {age}\")\n",
    "try:\n",
    "    check_age(-5)\n",
    "except ValueError as e:\n",
    "    print(f\"Caught an exception: {e}\")"
   ]
  },
  {
   "cell_type": "code",
   "execution_count": 10,
   "id": "17fc1c4d-860a-4982-b258-0b18b5218992",
   "metadata": {},
   "outputs": [
    {
     "name": "stdout",
     "output_type": "stream",
     "text": [
      "Caught exception: Value cannot be negative!\n"
     ]
    }
   ],
   "source": [
    "#EP-5 instantiating exception\n",
    "def check_value(x):\n",
    "    if x < 0:\n",
    "        error = ValueError(\"Value cannot be negative!\")\n",
    "        raise error\n",
    "    else:\n",
    "        print(f\"Value is {x}\")\n",
    "try:\n",
    "    check_value(-10)\n",
    "except ValueError as e:\n",
    "    print(f\"Caught exception: {e}\")"
   ]
  },
  {
   "cell_type": "code",
   "execution_count": 11,
   "id": "de34c7b0-4db1-4c0f-b8cb-e0d9f6b02454",
   "metadata": {},
   "outputs": [
    {
     "name": "stdout",
     "output_type": "stream",
     "text": [
      "Caught an exception: You cannot divide by zero!\n"
     ]
    }
   ],
   "source": [
    "#EP-6 handling exception raising function\n",
    "def divide(a, b):\n",
    "    if b == 0:\n",
    "        raise ZeroDivisionError(\"You cannot divide by zero!\")\n",
    "    return a / b\n",
    "try:\n",
    "    result = divide(10, 0)\n",
    "    print(f\"Result is {result}\")\n",
    "except ZeroDivisionError as e:\n",
    "    print(f\"Caught an exception: {e}\")\n"
   ]
  },
  {
   "cell_type": "code",
   "execution_count": 12,
   "id": "41e09b45-1e89-4844-a7f7-3cea2c090336",
   "metadata": {},
   "outputs": [
    {
     "name": "stdout",
     "output_type": "stream",
     "text": [
      "Content read from file:\n",
      "Hello, this is a test.\n",
      "Writing and reading files in Python is easy!\n",
      "\n"
     ]
    }
   ],
   "source": [
    "#EP-7 write content into a file and read the same file\n",
    "with open('example.txt', 'w') as file:\n",
    "    file.write(\"Hello, this is a test.\\n\")\n",
    "    file.write(\"Writing and reading files in Python is easy!\\n\")\n",
    "with open('example.txt', 'r') as file:\n",
    "    content = file.read()\n",
    "print(\"Content read from file:\")\n",
    "print(content)\n"
   ]
  },
  {
   "cell_type": "code",
   "execution_count": 13,
   "id": "1bd17a59-3693-4e7d-a18a-2444b3044d2c",
   "metadata": {},
   "outputs": [
    {
     "name": "stdout",
     "output_type": "stream",
     "text": [
      "Files 'file1.txt' and 'file2.txt' merged into 'merged.txt'\n"
     ]
    }
   ],
   "source": [
    "#EP-8 merge two files into one file\n",
    "file1 = 'file1.txt'\n",
    "file2 = 'file2.txt'\n",
    "merged_file = 'merged.txt'\n",
    "with open(file1, 'w') as f:\n",
    "    f.write(\"Content of file 1\\nLine 2 of file 1\\n\")\n",
    "with open(file2, 'w') as f:\n",
    "    f.write(\"Content of file 2\\nLine 2 of file 2\\n\")\n",
    "with open(merged_file, 'w') as outfile:\n",
    "    for fname in [file1, file2]:\n",
    "        with open(fname, 'r') as infile:\n",
    "            contents = infile.read()\n",
    "            outfile.write(contents)\n",
    "            outfile.write('\\n')  \n",
    "print(f\"Files '{file1}' and '{file2}' merged into '{merged_file}'\")"
   ]
  },
  {
   "cell_type": "code",
   "execution_count": 14,
   "id": "c9ac6dc5-2410-48db-91dd-48bf5450e14a",
   "metadata": {},
   "outputs": [
    {
     "name": "stdout",
     "output_type": "stream",
     "text": [
      "Copied contents from source.txt to destination.txt without using modules.\n"
     ]
    }
   ],
   "source": [
    "#EP-9 copy one file to another file\n",
    "source_file = 'source.txt'\n",
    "destination_file = 'destination.txt'\n",
    "with open(source_file, 'w') as f:\n",
    "    f.write(\"This is the content to copy.\\nLine 2 of the file.\")\n",
    "with open(source_file, 'r') as src, open(destination_file, 'w') as dest:\n",
    "    while True:\n",
    "        chunk = src.read(1024)  \n",
    "        if not chunk:\n",
    "            break\n",
    "        dest.write(chunk)\n",
    "print(f\"Copied contents from {source_file} to {destination_file} without using modules.\")"
   ]
  },
  {
   "cell_type": "code",
   "execution_count": 15,
   "id": "3d9061d4-f0cc-4419-906a-b8d0b9dd22dc",
   "metadata": {},
   "outputs": [
    {
     "name": "stdout",
     "output_type": "stream",
     "text": [
      "Content appended to example.txt\n"
     ]
    }
   ],
   "source": [
    "#EP-10 append contents into a file\n",
    "filename = 'example.txt'\n",
    "with open(filename, 'a') as file:  \n",
    "    file.write(\"This line will be added at the end.\\n\")\n",
    "    file.write(\"Another appended line.\\n\")\n",
    "print(f\"Content appended to {filename}\")"
   ]
  },
  {
   "cell_type": "code",
   "execution_count": null,
   "id": "eb7c3355-d5c1-4644-a704-b36e16938049",
   "metadata": {},
   "outputs": [],
   "source": []
  }
 ],
 "metadata": {
  "kernelspec": {
   "display_name": "Python [conda env:base] *",
   "language": "python",
   "name": "conda-base-py"
  },
  "language_info": {
   "codemirror_mode": {
    "name": "ipython",
    "version": 3
   },
   "file_extension": ".py",
   "mimetype": "text/x-python",
   "name": "python",
   "nbconvert_exporter": "python",
   "pygments_lexer": "ipython3",
   "version": "3.13.5"
  }
 },
 "nbformat": 4,
 "nbformat_minor": 5
}
