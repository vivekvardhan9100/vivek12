{
 "cells": [
  {
   "cell_type": "code",
   "execution_count": 7,
   "id": "177fb394-74a4-4cb8-8066-498a0599ba60",
   "metadata": {},
   "outputs": [
    {
     "name": "stdin",
     "output_type": "stream",
     "text": [
      "Enter the first number 134\n",
      "Enter the second number 456\n"
     ]
    },
    {
     "name": "stdout",
     "output_type": "stream",
     "text": [
      "The GCD of 134 and 456 is 2\n"
     ]
    }
   ],
   "source": [
    "#SP-1 recursive function to generate GCD og given 2 numbers\n",
    "def gcd(a,b):\n",
    "    if b == 0:\n",
    "        return a\n",
    "    else:\n",
    "        return gcd(b, a%b)\n",
    "num1=int(input(\"Enter the first number\"))\n",
    "num2=int(input(\"Enter the second number\"))\n",
    "result=gcd(num1,num2)\n",
    "print(\"The GCD of\",num1,\"and\",num2,\"is\",result)"
   ]
  },
  {
   "cell_type": "code",
   "execution_count": 9,
   "id": "7aab90dc-9cc7-47fd-91e8-7a70fb22a678",
   "metadata": {},
   "outputs": [
    {
     "name": "stdout",
     "output_type": "stream",
     "text": [
      "Calling the function with 3 arguments:\n",
      "Argument 1: Hello\n",
      "Argument 2: World\n",
      "Argument 3: Python\n",
      "\n",
      "Calling the function with 5 arguments:\n",
      "Argument 1: Apple\n",
      "Argument 2: Banana\n",
      "Argument 3: Cherry\n",
      "Argument 4: Durian\n",
      "Argument 5: Elderberry\n"
     ]
    }
   ],
   "source": [
    "#SP-2 to demonstrate variable length argument\n",
    "def print_arguments(*args):\n",
    "    for i,arg in enumerate(args, start=1):\n",
    "        print(f\"Argument {i}: {arg}\")\n",
    "print(\"Calling the function with 3 arguments:\")\n",
    "print_arguments(\"Hello\",\"World\",\"Python\")\n",
    "print()\n",
    "print(\"Calling the function with 5 arguments:\")\n",
    "print_arguments(\"Apple\",\"Banana\",\"Cherry\",\"Durian\",\"Elderberry\")"
   ]
  },
  {
   "cell_type": "code",
   "execution_count": 17,
   "id": "5cf4b48b-7588-4851-b1ad-069a5d18c2f0",
   "metadata": {},
   "outputs": [
    {
     "name": "stdout",
     "output_type": "stream",
     "text": [
      "Result of addition: 8\n",
      "Doubled numbers: [2, 4, 6, 8, 10]\n",
      "Even numbers: [1, 2, 3, 4, 5, 6, 7, 8, 9, 10]\n"
     ]
    }
   ],
   "source": [
    "#SP-3 to demonstrate lambda function\n",
    "add=lambda x,y: x+y\n",
    "result=add(3,5)\n",
    "print(\"Result of addition:\",result)\n",
    "numbers=[1,2,3,4,5]\n",
    "doubled=list(map(lambda x:x*2,numbers))\n",
    "print(\"Doubled numbers:\",doubled)\n",
    "numbers=[1,2,3,4,5,6,7,8,9,10]\n",
    "evens=list(filter(lambda x:x*2,numbers))\n",
    "print(\"Even numbers:\",evens)\n"
   ]
  },
  {
   "cell_type": "code",
   "execution_count": 29,
   "id": "4f5de124-7ff2-4efd-8521-07c04af0886a",
   "metadata": {},
   "outputs": [
    {
     "name": "stdin",
     "output_type": "stream",
     "text": [
      "Enter a number:  12\n"
     ]
    },
    {
     "name": "stdout",
     "output_type": "stream",
     "text": [
      "12 is NOT a Perfect Number.\n"
     ]
    }
   ],
   "source": [
    "#EP-1 program to check given number is perfect number or not without passing arguments\n",
    "def check_perfect_number():\n",
    "    num = int(input(\"Enter a number: \"))\n",
    "    if num <= 0:\n",
    "        print(\"Please enter a positive integer.\")\n",
    "        return\n",
    "    sum_of_divisors = 0\n",
    "    for i in range(1, num):\n",
    "        if num % i == 0:\n",
    "            sum_of_divisors += i\n",
    "    if sum_of_divisors == num:\n",
    "        print(f\"{num} is a Perfect Number.\")\n",
    "    else:\n",
    "        print(f\"{num} is NOT a Perfect Number.\")\n",
    "check_perfect_number()\n"
   ]
  },
  {
   "cell_type": "code",
   "execution_count": 30,
   "id": "fd7936a1-eb71-4659-95fb-79cde9e868bd",
   "metadata": {},
   "outputs": [
    {
     "name": "stdout",
     "output_type": "stream",
     "text": [
      "12 is NOT an Armstrong Number.\n"
     ]
    }
   ],
   "source": [
    " #Ep-2 to check given number is armstrong number or not with passing arguments\n",
    "def is_armstrong(number):\n",
    "    num_str = str(number)\n",
    "    num_digits = len(num_str)\n",
    "    total = sum(int(digit) ** num_digits for digit in num_str)\n",
    "    if total == number:\n",
    "        print(f\"{number} is an Armstrong Number.\")\n",
    "    else:\n",
    "        print(f\"{number} is NOT an Armstrong Number.\")\n",
    "is_armstrong(12)"
   ]
  },
  {
   "cell_type": "code",
   "execution_count": 22,
   "id": "c20e5822-4ad6-42f6-a91a-3f1ffb8cb102",
   "metadata": {},
   "outputs": [
    {
     "name": "stdin",
     "output_type": "stream",
     "text": [
      "Enter a number 23\n"
     ]
    },
    {
     "name": "stdout",
     "output_type": "stream",
     "text": [
      "Counter before function call: 23\n",
      "Counter inside function: 24\n",
      "Counter after function call: 24\n"
     ]
    }
   ],
   "source": [
    "#EP-3 function to demonstrate use of global variable and global keyword\n",
    "counter =int(input(\"Enter a number\"))\n",
    "def increment():\n",
    "    global counter\n",
    "    counter += 1\n",
    "    print(f\"Counter inside function: {counter}\")\n",
    "print(f\"Counter before function call: {counter}\")\n",
    "increment()\n",
    "print(f\"Counter after function call: {counter}\")"
   ]
  },
  {
   "cell_type": "code",
   "execution_count": 27,
   "id": "ecebba2b-06f6-4dde-9cd6-57d9f7506e92",
   "metadata": {},
   "outputs": [
    {
     "name": "stdout",
     "output_type": "stream",
     "text": [
      "Hello Alice!\n",
      "You are 30 years old and live in New York.\n",
      "---\n",
      "Hello Bob!\n",
      "You are 25 years old and live in Los Angeles.\n"
     ]
    }
   ],
   "source": [
    "#EP-4 to demonstrate keyword arguments\n",
    "def greet(name, age, city):\n",
    "    print(f\"Hello {name}!\")\n",
    "    print(f\"You are {age} years old and live in {city}.\")\n",
    "greet(\"Alice\", 30, \"New York\")\n",
    "print(\"---\")\n",
    "greet(age=25, city=\"Los Angeles\", name=\"Bob\")\n"
   ]
  },
  {
   "cell_type": "code",
   "execution_count": 31,
   "id": "c6002354-bf0f-45bf-95d6-15e94fde82d6",
   "metadata": {},
   "outputs": [
    {
     "name": "stdout",
     "output_type": "stream",
     "text": [
      "Good morning, Alice!\n",
      "Hello, Bob!\n"
     ]
    }
   ],
   "source": [
    "#EP-5 to demonstrate default ARGUMENTS\n",
    "def greet(name, msg=\"Hello\"):\n",
    "    print(f\"{msg}, {name}!\")\n",
    "greet(\"Alice\", \"Good morning\")\n",
    "greet(\"Bob\")\n"
   ]
  },
  {
   "cell_type": "code",
   "execution_count": 35,
   "id": "083d868c-d12e-49cd-b838-b2854408457c",
   "metadata": {},
   "outputs": [
    {
     "name": "stdin",
     "output_type": "stream",
     "text": [
      "Enter a number 5\n"
     ]
    },
    {
     "name": "stdout",
     "output_type": "stream",
     "text": [
      "Fibonacci series up to 5 terms:\n",
      "[0, 1, 1, 2, 3]\n"
     ]
    }
   ],
   "source": [
    "#EP-6 function to generate fibonacci series up to given range\n",
    "def fibonacci_recursive(n):\n",
    "    if n <= 0:\n",
    "        return []\n",
    "    elif n == 1:\n",
    "        return [0]\n",
    "    elif n == 2:\n",
    "        return [0, 1]\n",
    "    else:\n",
    "        series = fibonacci_recursive(n - 1)\n",
    "        series.append(series[-1] + series[-2])\n",
    "        return series\n",
    "terms =int(input(\"Enter a number\"))\n",
    "print(f\"Fibonacci series up to {terms} terms:\")\n",
    "print(fibonacci_recursive(terms))\n",
    "\n",
    "\n"
   ]
  },
  {
   "cell_type": "code",
   "execution_count": 37,
   "id": "92794553-ae26-46ae-a3a6-e673336a4ec6",
   "metadata": {},
   "outputs": [
    {
     "name": "stdin",
     "output_type": "stream",
     "text": [
      "Enter a number to square:  456\n"
     ]
    },
    {
     "name": "stdout",
     "output_type": "stream",
     "text": [
      "The square of 456 is 207936\n"
     ]
    }
   ],
   "source": [
    "#EP-7 to demonstrate lambda function within a function\n",
    "def square_input():\n",
    "    num = int(input(\"Enter a number to square: \"))\n",
    "    square = lambda x: x ** 2\n",
    "    result = square(num)\n",
    "    print(f\"The square of {num} is {result}\")\n",
    "\n",
    "square_input()\n"
   ]
  },
  {
   "cell_type": "code",
   "execution_count": 38,
   "id": "83e616f2-1dca-42f4-ab20-42f84f3e38d1",
   "metadata": {},
   "outputs": [
    {
     "name": "stdin",
     "output_type": "stream",
     "text": [
      "Enter a number:  34\n"
     ]
    },
    {
     "name": "stdout",
     "output_type": "stream",
     "text": [
      "Choose operation:\n",
      "1. Square the number\n",
      "2. Double the number\n"
     ]
    },
    {
     "name": "stdin",
     "output_type": "stream",
     "text": [
      "Enter 1 or 2:  2\n"
     ]
    },
    {
     "name": "stdout",
     "output_type": "stream",
     "text": [
      "Double of 34 is 68\n"
     ]
    }
   ],
   "source": [
    "#EP-8 to demonstrate lambda function as arguments to another function\n",
    "def apply_function(x, func):\n",
    "    return func(x)\n",
    "num = int(input(\"Enter a number: \"))\n",
    "print(\"Choose operation:\")\n",
    "print(\"1. Square the number\")\n",
    "print(\"2. Double the number\")\n",
    "choice = input(\"Enter 1 or 2: \")\n",
    "if choice == '1':\n",
    "    result = apply_function(num, lambda n: n ** 2)\n",
    "    print(f\"Square of {num} is {result}\")\n",
    "elif choice == '2':\n",
    "    result = apply_function(num, lambda n: n * 2)\n",
    "    print(f\"Double of {num} is {result}\")\n",
    "else:\n",
    "    print(\"Invalid choice.\")\n"
   ]
  },
  {
   "cell_type": "code",
   "execution_count": 39,
   "id": "d6df5930-c2e0-458c-878a-95616d086b09",
   "metadata": {},
   "outputs": [
    {
     "name": "stdin",
     "output_type": "stream",
     "text": [
      "Enter the radius of the circle:  45\n"
     ]
    },
    {
     "name": "stdout",
     "output_type": "stream",
     "text": [
      "Area of the circle: 6361.73\n",
      "Perimeter (Circumference) of the circle: 282.74\n"
     ]
    }
   ],
   "source": [
    "#EP-9 to demonstrate multiple lambda function within a function using circle perimeter and area example\n",
    "import math\n",
    "def circle_calculations():\n",
    "    radius = float(input(\"Enter the radius of the circle: \"))\n",
    "    area = lambda r: math.pi * r ** 2\n",
    "    perimeter = lambda r: 2 * math.pi * r\n",
    "    print(f\"Area of the circle: {area(radius):.2f}\")\n",
    "    print(f\"Perimeter (Circumference) of the circle: {perimeter(radius):.2f}\")\n",
    "circle_calculations()\n"
   ]
  },
  {
   "cell_type": "code",
   "execution_count": null,
   "id": "24dd913f-9bf3-4038-94df-313ce10c2e2c",
   "metadata": {},
   "outputs": [],
   "source": []
  }
 ],
 "metadata": {
  "kernelspec": {
   "display_name": "Python [conda env:base] *",
   "language": "python",
   "name": "conda-base-py"
  },
  "language_info": {
   "codemirror_mode": {
    "name": "ipython",
    "version": 3
   },
   "file_extension": ".py",
   "mimetype": "text/x-python",
   "name": "python",
   "nbconvert_exporter": "python",
   "pygments_lexer": "ipython3",
   "version": "3.13.5"
  }
 },
 "nbformat": 4,
 "nbformat_minor": 5
}
